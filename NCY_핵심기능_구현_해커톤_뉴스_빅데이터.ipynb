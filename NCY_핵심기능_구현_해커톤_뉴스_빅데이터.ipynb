{
  "cells": [
    {
      "cell_type": "markdown",
      "metadata": {
        "id": "view-in-github",
        "colab_type": "text"
      },
      "source": [
        "<a href=\"https://colab.research.google.com/github/JiSu0708/ESAA-OB/blob/main/NCY_%ED%95%B5%EC%8B%AC%EA%B8%B0%EB%8A%A5_%EA%B5%AC%ED%98%84_%ED%95%B4%EC%BB%A4%ED%86%A4_%EB%89%B4%EC%8A%A4_%EB%B9%85%EB%8D%B0%EC%9D%B4%ED%84%B0.ipynb\" target=\"_parent\"><img src=\"https://colab.research.google.com/assets/colab-badge.svg\" alt=\"Open In Colab\"/></a>"
      ]
    },
    {
      "cell_type": "markdown",
      "metadata": {
        "id": "hdfbUh-_nlcK"
      },
      "source": [
        "안녕하세요, 뉴스빅데이터 해커톤 운영국입니다.\n",
        "신청하신 빅카인즈 API 발급 내역입니다.\n",
        "\n",
        "1. 키값: cdc5622a-5133-4698-bca3-eb18d183a593\n",
        "\n",
        "2. 첨부: 사용자지침서\n",
        "\n",
        "좋은 성과 있으시길 바라겠습니다.\n",
        "\n",
        "감사합니다.\n",
        "\n",
        "\n",
        "뉴스빅데이터 해커톤 운영국 드림"
      ]
    },
    {
      "cell_type": "markdown",
      "source": [
        "# [핵심기능 1] **긍부정 평가**"
      ],
      "metadata": {
        "id": "Z8Cw6qttGE9m"
      }
    },
    {
      "cell_type": "markdown",
      "metadata": {
        "id": "PVSGEvK1zZwJ"
      },
      "source": [
        "## 1. 데이터 불러오기"
      ]
    },
    {
      "cell_type": "code",
      "execution_count": null,
      "metadata": {
        "colab": {
          "base_uri": "https://localhost:8080/"
        },
        "id": "IaqklqMay3-d",
        "outputId": "da3d43cc-2aab-474a-be0c-55c62e7670ad"
      },
      "outputs": [
        {
          "output_type": "stream",
          "name": "stdout",
          "text": [
            "Drive already mounted at /content/drive; to attempt to forcibly remount, call drive.mount(\"/content/drive\", force_remount=True).\n"
          ]
        }
      ],
      "source": [
        "from google.colab import drive\n",
        "drive.mount('/content/drive')"
      ]
    },
    {
      "cell_type": "code",
      "execution_count": null,
      "metadata": {
        "colab": {
          "base_uri": "https://localhost:8080/"
        },
        "id": "RrsFSBrwzZYR",
        "outputId": "46984172-95b7-42a5-c4f3-b42a2d30d9e4"
      },
      "outputs": [
        {
          "output_type": "stream",
          "name": "stdout",
          "text": [
            "         뉴스 식별자        일자   언론사   기고자  \\\n",
            "0  8.100401e+06  20231106   YTN   신웅진   \n",
            "1  1.100401e+06  20231106  동아일보   하정민   \n",
            "2  1.100801e+06  20231106  조선일보  조선일보   \n",
            "3  1.100801e+06  20231106  조선일보  조선일보   \n",
            "4  1.100801e+06  20231106  조선일보  조선일보   \n",
            "\n",
            "                                             제목      통합 분류1   통합 분류2  \\\n",
            "0                  트럼프, 경합 주 여론조사 바이든에 5 대 1 앞서      정치>청와대   국제>중남미   \n",
            "1  “이, 가자 난민촌 공습은 명백한 전쟁범죄 탄압 멈추지 않으면 중동평화 불가능”  국제>중동_아프리카    정치>외교   \n",
            "2                 [사설] 정당 공식 기구서 제기된 ‘의원 특권 축소’    정치>국회_정당    정치>선거   \n",
            "3          [사설] “탈당 후 신당” 이준석, 구태 같은 ‘청년 정치’ 결말    정치>국회_정당   정치>청와대   \n",
            "4       [사설] 북 억류 6명에 뒤늦은 보상, 납북자 송환은 국가의 기본 책무       정치>북한    국제>일본   \n",
            "\n",
            "      통합 분류3   사건/사고 분류1 사건/사고 분류2 사건/사고 분류3  \\\n",
            "0   국제>미국_북미         NaN       NaN       NaN   \n",
            "1   국제>미국_북미  사회>사회갈등>전쟁       NaN       NaN   \n",
            "2   정치>행정_자치         NaN       NaN       NaN   \n",
            "3      정치>선거         NaN       NaN       NaN   \n",
            "4      정치>외교         NaN       NaN       NaN   \n",
            "\n",
            "                                               인물  \\\n",
            "0                      트럼프,바이든,조 바이든,시에나대,도널드 트럼프   \n",
            "1  아라파트,야세르,박근혜,윤석열,쿠제치,아키바,베냐민 네타냐후,도널드 트럼프,☞,토르   \n",
            "2                                     김기현,김의겸,이재명   \n",
            "3                                   이준석,이,윤석열,인요한   \n",
            "4                                        김정일,고이즈미   \n",
            "\n",
            "                                                  위치  \\\n",
            "0                         미국,네바다,위스콘신,펜실베이니아,미시간,조지아   \n",
            "1  우크라이나,나이지리아,난민촌,서울,신라,테헤란,테헤란대,시리아,카타르,가자지구,한국...   \n",
            "2                                                 원수   \n",
            "3                                              서울,한국   \n",
            "4                      북,캐나다,미국,평양,일본,국군포,대한민국,한국,북한   \n",
            "\n",
            "                                                  기관  \\\n",
            "0                                          YTN,뉴욕타임스   \n",
            "1  이란대사관,헤즈볼라,미국,유일,그리스정교,가자지구,한국,하마스,북한,행정부,이스라엘...   \n",
            "2                            민주당,OECD,국회,한국,혁신위,국민의힘   \n",
            "3                                           혁신위,국민의힘   \n",
            "4                                정부,일본,통일부,국군,자민당,북한   \n",
            "\n",
            "                                                 키워드  \\\n",
            "0  트럼프,경합,여론,조사,바이든,선거,내년,미국,대통령,향방,결정,경합,여론조사,도널...   \n",
            "1  난민촌,공습,전쟁범죄,탄압,중동,평화,쿠제치,주한,이란,대사,인터뷰,이스라엘,팔레스...   \n",
            "2  정당,공식,기구서,제기,축소,의원,특권,국민,인요,혁신위,포기,국회의원,체포,특권,...   \n",
            "3  탈당,신당,이준석,구태,청년,정치,결말,이준석,국민,대표,연일,창당,거론,국민,단계...   \n",
            "4  6명,억류,보상,납북자,송환,국가,기본,책무,북한,장기,억류,선교사,가족,통일부,최...   \n",
            "\n",
            "                                   특성추출(가중치순 상위 50개)  \\\n",
            "0  바이든,유권자,뉴욕타임스,6개,선거인단,조지아,미시간,위스콘신,여론조사,3천,미국,...   \n",
            "1  이스라엘,가자지구,하마스,한국,팔레스타인,쿠제치,미국,헤즈볼라,행정부,민간인,신라,...   \n",
            "2               국회의원,혁신위,민주당,불체포특권,의원들,움직,김의겸,인요,그동안   \n",
            "3  서울,이준석,윤석열,진흙탕,한국,위원장,혁신위원장,인요,부산,사람들,지지율,측근들,...   \n",
            "4    납북자,억류자,일본,통일부,김정은,자민당,고이즈미,선교사,데이비드,한국인,6명,문재인   \n",
            "\n",
            "                                                  본문  \\\n",
            "0  내년 11월 미국 대통령 선거의 향방을 결정할 6개 경합 주 여론조사에서 도널드 트...   \n",
            "1  “이스라엘이 팔레스타인 탄압을 멈추지 않으면 중동 평화는 불가능합니다. 이스라엘이 ...   \n",
            "2  국민의힘 ‘인요한 혁신위’가 국회의원 불체포특권 포기, 의원 숫자 10% 감축, 세...   \n",
            "3  이준석 전 국민의힘 대표가 연일 탈당 및 신당 창당을 거론하고 있다. 그는 국민의힘...   \n",
            "4  북한이 장기 억류 중인 선교사 3명과 탈북민 3명의 가족에게 통일부가 최고 2000...   \n",
            "\n",
            "                                                 URL 분석제외 여부  \n",
            "0  https://www.ytn.co.kr/_ln/0104_202311060333255086     NaN  \n",
            "1  https://www.donga.com/news/Inter/article/all/2...     NaN  \n",
            "2  https://www.chosun.com/opinion/editorial/2023/...     NaN  \n",
            "3  https://www.chosun.com/opinion/editorial/2023/...     NaN  \n",
            "4  https://www.chosun.com/opinion/editorial/2023/...     NaN  \n"
          ]
        }
      ],
      "source": [
        "import pandas as pd\n",
        "\n",
        "# CSV 파일 경로 설정\n",
        "csv_file_path = '/content/drive/My Drive/NewsResult_20231021-20231106.csv'\n",
        "\n",
        "# Pandas를 사용하여 CSV 파일 불러오기\n",
        "df = pd.read_csv(csv_file_path)\n",
        "\n",
        "# 데이터 프레임 확인\n",
        "print(df.head())"
      ]
    },
    {
      "cell_type": "code",
      "execution_count": null,
      "metadata": {
        "colab": {
          "base_uri": "https://localhost:8080/"
        },
        "id": "yt_xmli9z1l3",
        "outputId": "ec56025b-a0c6-41a9-8202-64146562d8ae"
      },
      "outputs": [
        {
          "output_type": "stream",
          "name": "stdout",
          "text": [
            "<class 'pandas.core.frame.DataFrame'>\n",
            "RangeIndex: 19915 entries, 0 to 19914\n",
            "Data columns (total 19 columns):\n",
            " #   Column             Non-Null Count  Dtype  \n",
            "---  ------             --------------  -----  \n",
            " 0   뉴스 식별자             19915 non-null  float64\n",
            " 1   일자                 19915 non-null  int64  \n",
            " 2   언론사                19915 non-null  object \n",
            " 3   기고자                19086 non-null  object \n",
            " 4   제목                 19915 non-null  object \n",
            " 5   통합 분류1             19915 non-null  object \n",
            " 6   통합 분류2             17675 non-null  object \n",
            " 7   통합 분류3             12724 non-null  object \n",
            " 8   사건/사고 분류1          2557 non-null   object \n",
            " 9   사건/사고 분류2          450 non-null    object \n",
            " 10  사건/사고 분류3          75 non-null     object \n",
            " 11  인물                 18174 non-null  object \n",
            " 12  위치                 17638 non-null  object \n",
            " 13  기관                 19771 non-null  object \n",
            " 14  키워드                19915 non-null  object \n",
            " 15  특성추출(가중치순 상위 50개)  19915 non-null  object \n",
            " 16  본문                 19915 non-null  object \n",
            " 17  URL                19779 non-null  object \n",
            " 18  분석제외 여부            1436 non-null   object \n",
            "dtypes: float64(1), int64(1), object(17)\n",
            "memory usage: 2.9+ MB\n"
          ]
        }
      ],
      "source": [
        "df.info()"
      ]
    },
    {
      "cell_type": "markdown",
      "metadata": {
        "id": "6aTZFLHkxYou"
      },
      "source": [
        "## 2. 데이터 전처리"
      ]
    },
    {
      "cell_type": "markdown",
      "source": [
        "### 1) 불필요한 데이터 삭제"
      ],
      "metadata": {
        "id": "IqW3FvZyBxom"
      }
    },
    {
      "cell_type": "code",
      "execution_count": null,
      "metadata": {
        "id": "HxSxvZVt2wAJ"
      },
      "outputs": [],
      "source": [
        "df.drop(['뉴스 식별자', '일자', '기고자','통합 분류1', '통합 분류2', '통합 분류3', '사건/사고 분류1', '사건/사고 분류2', '사건/사고 분류3', '인물', '위치', 'URL', '분석제외 여부'], axis=1, inplace=True)"
      ]
    },
    {
      "cell_type": "code",
      "execution_count": null,
      "metadata": {
        "colab": {
          "base_uri": "https://localhost:8080/",
          "height": 310
        },
        "id": "DB8iWXL_3lpa",
        "outputId": "508a4cbf-1cc6-4946-fe6f-827b519b53ce"
      },
      "outputs": [
        {
          "output_type": "execute_result",
          "data": {
            "text/plain": [
              "    언론사                                            제목  \\\n",
              "0   YTN                  트럼프, 경합 주 여론조사 바이든에 5 대 1 앞서   \n",
              "1  동아일보  “이, 가자 난민촌 공습은 명백한 전쟁범죄 탄압 멈추지 않으면 중동평화 불가능”   \n",
              "2  조선일보                 [사설] 정당 공식 기구서 제기된 ‘의원 특권 축소’   \n",
              "3  조선일보          [사설] “탈당 후 신당” 이준석, 구태 같은 ‘청년 정치’ 결말   \n",
              "4  조선일보       [사설] 북 억류 6명에 뒤늦은 보상, 납북자 송환은 국가의 기본 책무   \n",
              "\n",
              "                                                  기관  \\\n",
              "0                                          YTN,뉴욕타임스   \n",
              "1  이란대사관,헤즈볼라,미국,유일,그리스정교,가자지구,한국,하마스,북한,행정부,이스라엘...   \n",
              "2                            민주당,OECD,국회,한국,혁신위,국민의힘   \n",
              "3                                           혁신위,국민의힘   \n",
              "4                                정부,일본,통일부,국군,자민당,북한   \n",
              "\n",
              "                                                 키워드  \\\n",
              "0  트럼프,경합,여론,조사,바이든,선거,내년,미국,대통령,향방,결정,경합,여론조사,도널...   \n",
              "1  난민촌,공습,전쟁범죄,탄압,중동,평화,쿠제치,주한,이란,대사,인터뷰,이스라엘,팔레스...   \n",
              "2  정당,공식,기구서,제기,축소,의원,특권,국민,인요,혁신위,포기,국회의원,체포,특권,...   \n",
              "3  탈당,신당,이준석,구태,청년,정치,결말,이준석,국민,대표,연일,창당,거론,국민,단계...   \n",
              "4  6명,억류,보상,납북자,송환,국가,기본,책무,북한,장기,억류,선교사,가족,통일부,최...   \n",
              "\n",
              "                                   특성추출(가중치순 상위 50개)  \\\n",
              "0  바이든,유권자,뉴욕타임스,6개,선거인단,조지아,미시간,위스콘신,여론조사,3천,미국,...   \n",
              "1  이스라엘,가자지구,하마스,한국,팔레스타인,쿠제치,미국,헤즈볼라,행정부,민간인,신라,...   \n",
              "2               국회의원,혁신위,민주당,불체포특권,의원들,움직,김의겸,인요,그동안   \n",
              "3  서울,이준석,윤석열,진흙탕,한국,위원장,혁신위원장,인요,부산,사람들,지지율,측근들,...   \n",
              "4    납북자,억류자,일본,통일부,김정은,자민당,고이즈미,선교사,데이비드,한국인,6명,문재인   \n",
              "\n",
              "                                                  본문  \n",
              "0  내년 11월 미국 대통령 선거의 향방을 결정할 6개 경합 주 여론조사에서 도널드 트...  \n",
              "1  “이스라엘이 팔레스타인 탄압을 멈추지 않으면 중동 평화는 불가능합니다. 이스라엘이 ...  \n",
              "2  국민의힘 ‘인요한 혁신위’가 국회의원 불체포특권 포기, 의원 숫자 10% 감축, 세...  \n",
              "3  이준석 전 국민의힘 대표가 연일 탈당 및 신당 창당을 거론하고 있다. 그는 국민의힘...  \n",
              "4  북한이 장기 억류 중인 선교사 3명과 탈북민 3명의 가족에게 통일부가 최고 2000...  "
            ],
            "text/html": [
              "\n",
              "  <div id=\"df-80fd430a-407f-4a9f-ba58-ab77b00c5d48\" class=\"colab-df-container\">\n",
              "    <div>\n",
              "<style scoped>\n",
              "    .dataframe tbody tr th:only-of-type {\n",
              "        vertical-align: middle;\n",
              "    }\n",
              "\n",
              "    .dataframe tbody tr th {\n",
              "        vertical-align: top;\n",
              "    }\n",
              "\n",
              "    .dataframe thead th {\n",
              "        text-align: right;\n",
              "    }\n",
              "</style>\n",
              "<table border=\"1\" class=\"dataframe\">\n",
              "  <thead>\n",
              "    <tr style=\"text-align: right;\">\n",
              "      <th></th>\n",
              "      <th>언론사</th>\n",
              "      <th>제목</th>\n",
              "      <th>기관</th>\n",
              "      <th>키워드</th>\n",
              "      <th>특성추출(가중치순 상위 50개)</th>\n",
              "      <th>본문</th>\n",
              "    </tr>\n",
              "  </thead>\n",
              "  <tbody>\n",
              "    <tr>\n",
              "      <th>0</th>\n",
              "      <td>YTN</td>\n",
              "      <td>트럼프, 경합 주 여론조사 바이든에 5 대 1 앞서</td>\n",
              "      <td>YTN,뉴욕타임스</td>\n",
              "      <td>트럼프,경합,여론,조사,바이든,선거,내년,미국,대통령,향방,결정,경합,여론조사,도널...</td>\n",
              "      <td>바이든,유권자,뉴욕타임스,6개,선거인단,조지아,미시간,위스콘신,여론조사,3천,미국,...</td>\n",
              "      <td>내년 11월 미국 대통령 선거의 향방을 결정할 6개 경합 주 여론조사에서 도널드 트...</td>\n",
              "    </tr>\n",
              "    <tr>\n",
              "      <th>1</th>\n",
              "      <td>동아일보</td>\n",
              "      <td>“이, 가자 난민촌 공습은 명백한 전쟁범죄 탄압 멈추지 않으면 중동평화 불가능”</td>\n",
              "      <td>이란대사관,헤즈볼라,미국,유일,그리스정교,가자지구,한국,하마스,북한,행정부,이스라엘...</td>\n",
              "      <td>난민촌,공습,전쟁범죄,탄압,중동,평화,쿠제치,주한,이란,대사,인터뷰,이스라엘,팔레스...</td>\n",
              "      <td>이스라엘,가자지구,하마스,한국,팔레스타인,쿠제치,미국,헤즈볼라,행정부,민간인,신라,...</td>\n",
              "      <td>“이스라엘이 팔레스타인 탄압을 멈추지 않으면 중동 평화는 불가능합니다. 이스라엘이 ...</td>\n",
              "    </tr>\n",
              "    <tr>\n",
              "      <th>2</th>\n",
              "      <td>조선일보</td>\n",
              "      <td>[사설] 정당 공식 기구서 제기된 ‘의원 특권 축소’</td>\n",
              "      <td>민주당,OECD,국회,한국,혁신위,국민의힘</td>\n",
              "      <td>정당,공식,기구서,제기,축소,의원,특권,국민,인요,혁신위,포기,국회의원,체포,특권,...</td>\n",
              "      <td>국회의원,혁신위,민주당,불체포특권,의원들,움직,김의겸,인요,그동안</td>\n",
              "      <td>국민의힘 ‘인요한 혁신위’가 국회의원 불체포특권 포기, 의원 숫자 10% 감축, 세...</td>\n",
              "    </tr>\n",
              "    <tr>\n",
              "      <th>3</th>\n",
              "      <td>조선일보</td>\n",
              "      <td>[사설] “탈당 후 신당” 이준석, 구태 같은 ‘청년 정치’ 결말</td>\n",
              "      <td>혁신위,국민의힘</td>\n",
              "      <td>탈당,신당,이준석,구태,청년,정치,결말,이준석,국민,대표,연일,창당,거론,국민,단계...</td>\n",
              "      <td>서울,이준석,윤석열,진흙탕,한국,위원장,혁신위원장,인요,부산,사람들,지지율,측근들,...</td>\n",
              "      <td>이준석 전 국민의힘 대표가 연일 탈당 및 신당 창당을 거론하고 있다. 그는 국민의힘...</td>\n",
              "    </tr>\n",
              "    <tr>\n",
              "      <th>4</th>\n",
              "      <td>조선일보</td>\n",
              "      <td>[사설] 북 억류 6명에 뒤늦은 보상, 납북자 송환은 국가의 기본 책무</td>\n",
              "      <td>정부,일본,통일부,국군,자민당,북한</td>\n",
              "      <td>6명,억류,보상,납북자,송환,국가,기본,책무,북한,장기,억류,선교사,가족,통일부,최...</td>\n",
              "      <td>납북자,억류자,일본,통일부,김정은,자민당,고이즈미,선교사,데이비드,한국인,6명,문재인</td>\n",
              "      <td>북한이 장기 억류 중인 선교사 3명과 탈북민 3명의 가족에게 통일부가 최고 2000...</td>\n",
              "    </tr>\n",
              "  </tbody>\n",
              "</table>\n",
              "</div>\n",
              "    <div class=\"colab-df-buttons\">\n",
              "\n",
              "  <div class=\"colab-df-container\">\n",
              "    <button class=\"colab-df-convert\" onclick=\"convertToInteractive('df-80fd430a-407f-4a9f-ba58-ab77b00c5d48')\"\n",
              "            title=\"Convert this dataframe to an interactive table.\"\n",
              "            style=\"display:none;\">\n",
              "\n",
              "  <svg xmlns=\"http://www.w3.org/2000/svg\" height=\"24px\" viewBox=\"0 -960 960 960\">\n",
              "    <path d=\"M120-120v-720h720v720H120Zm60-500h600v-160H180v160Zm220 220h160v-160H400v160Zm0 220h160v-160H400v160ZM180-400h160v-160H180v160Zm440 0h160v-160H620v160ZM180-180h160v-160H180v160Zm440 0h160v-160H620v160Z\"/>\n",
              "  </svg>\n",
              "    </button>\n",
              "\n",
              "  <style>\n",
              "    .colab-df-container {\n",
              "      display:flex;\n",
              "      gap: 12px;\n",
              "    }\n",
              "\n",
              "    .colab-df-convert {\n",
              "      background-color: #E8F0FE;\n",
              "      border: none;\n",
              "      border-radius: 50%;\n",
              "      cursor: pointer;\n",
              "      display: none;\n",
              "      fill: #1967D2;\n",
              "      height: 32px;\n",
              "      padding: 0 0 0 0;\n",
              "      width: 32px;\n",
              "    }\n",
              "\n",
              "    .colab-df-convert:hover {\n",
              "      background-color: #E2EBFA;\n",
              "      box-shadow: 0px 1px 2px rgba(60, 64, 67, 0.3), 0px 1px 3px 1px rgba(60, 64, 67, 0.15);\n",
              "      fill: #174EA6;\n",
              "    }\n",
              "\n",
              "    .colab-df-buttons div {\n",
              "      margin-bottom: 4px;\n",
              "    }\n",
              "\n",
              "    [theme=dark] .colab-df-convert {\n",
              "      background-color: #3B4455;\n",
              "      fill: #D2E3FC;\n",
              "    }\n",
              "\n",
              "    [theme=dark] .colab-df-convert:hover {\n",
              "      background-color: #434B5C;\n",
              "      box-shadow: 0px 1px 3px 1px rgba(0, 0, 0, 0.15);\n",
              "      filter: drop-shadow(0px 1px 2px rgba(0, 0, 0, 0.3));\n",
              "      fill: #FFFFFF;\n",
              "    }\n",
              "  </style>\n",
              "\n",
              "    <script>\n",
              "      const buttonEl =\n",
              "        document.querySelector('#df-80fd430a-407f-4a9f-ba58-ab77b00c5d48 button.colab-df-convert');\n",
              "      buttonEl.style.display =\n",
              "        google.colab.kernel.accessAllowed ? 'block' : 'none';\n",
              "\n",
              "      async function convertToInteractive(key) {\n",
              "        const element = document.querySelector('#df-80fd430a-407f-4a9f-ba58-ab77b00c5d48');\n",
              "        const dataTable =\n",
              "          await google.colab.kernel.invokeFunction('convertToInteractive',\n",
              "                                                    [key], {});\n",
              "        if (!dataTable) return;\n",
              "\n",
              "        const docLinkHtml = 'Like what you see? Visit the ' +\n",
              "          '<a target=\"_blank\" href=https://colab.research.google.com/notebooks/data_table.ipynb>data table notebook</a>'\n",
              "          + ' to learn more about interactive tables.';\n",
              "        element.innerHTML = '';\n",
              "        dataTable['output_type'] = 'display_data';\n",
              "        await google.colab.output.renderOutput(dataTable, element);\n",
              "        const docLink = document.createElement('div');\n",
              "        docLink.innerHTML = docLinkHtml;\n",
              "        element.appendChild(docLink);\n",
              "      }\n",
              "    </script>\n",
              "  </div>\n",
              "\n",
              "\n",
              "<div id=\"df-76d3ec37-1482-4aaf-9484-123cb022565f\">\n",
              "  <button class=\"colab-df-quickchart\" onclick=\"quickchart('df-76d3ec37-1482-4aaf-9484-123cb022565f')\"\n",
              "            title=\"Suggest charts.\"\n",
              "            style=\"display:none;\">\n",
              "\n",
              "<svg xmlns=\"http://www.w3.org/2000/svg\" height=\"24px\"viewBox=\"0 0 24 24\"\n",
              "     width=\"24px\">\n",
              "    <g>\n",
              "        <path d=\"M19 3H5c-1.1 0-2 .9-2 2v14c0 1.1.9 2 2 2h14c1.1 0 2-.9 2-2V5c0-1.1-.9-2-2-2zM9 17H7v-7h2v7zm4 0h-2V7h2v10zm4 0h-2v-4h2v4z\"/>\n",
              "    </g>\n",
              "</svg>\n",
              "  </button>\n",
              "\n",
              "<style>\n",
              "  .colab-df-quickchart {\n",
              "      --bg-color: #E8F0FE;\n",
              "      --fill-color: #1967D2;\n",
              "      --hover-bg-color: #E2EBFA;\n",
              "      --hover-fill-color: #174EA6;\n",
              "      --disabled-fill-color: #AAA;\n",
              "      --disabled-bg-color: #DDD;\n",
              "  }\n",
              "\n",
              "  [theme=dark] .colab-df-quickchart {\n",
              "      --bg-color: #3B4455;\n",
              "      --fill-color: #D2E3FC;\n",
              "      --hover-bg-color: #434B5C;\n",
              "      --hover-fill-color: #FFFFFF;\n",
              "      --disabled-bg-color: #3B4455;\n",
              "      --disabled-fill-color: #666;\n",
              "  }\n",
              "\n",
              "  .colab-df-quickchart {\n",
              "    background-color: var(--bg-color);\n",
              "    border: none;\n",
              "    border-radius: 50%;\n",
              "    cursor: pointer;\n",
              "    display: none;\n",
              "    fill: var(--fill-color);\n",
              "    height: 32px;\n",
              "    padding: 0;\n",
              "    width: 32px;\n",
              "  }\n",
              "\n",
              "  .colab-df-quickchart:hover {\n",
              "    background-color: var(--hover-bg-color);\n",
              "    box-shadow: 0 1px 2px rgba(60, 64, 67, 0.3), 0 1px 3px 1px rgba(60, 64, 67, 0.15);\n",
              "    fill: var(--button-hover-fill-color);\n",
              "  }\n",
              "\n",
              "  .colab-df-quickchart-complete:disabled,\n",
              "  .colab-df-quickchart-complete:disabled:hover {\n",
              "    background-color: var(--disabled-bg-color);\n",
              "    fill: var(--disabled-fill-color);\n",
              "    box-shadow: none;\n",
              "  }\n",
              "\n",
              "  .colab-df-spinner {\n",
              "    border: 2px solid var(--fill-color);\n",
              "    border-color: transparent;\n",
              "    border-bottom-color: var(--fill-color);\n",
              "    animation:\n",
              "      spin 1s steps(1) infinite;\n",
              "  }\n",
              "\n",
              "  @keyframes spin {\n",
              "    0% {\n",
              "      border-color: transparent;\n",
              "      border-bottom-color: var(--fill-color);\n",
              "      border-left-color: var(--fill-color);\n",
              "    }\n",
              "    20% {\n",
              "      border-color: transparent;\n",
              "      border-left-color: var(--fill-color);\n",
              "      border-top-color: var(--fill-color);\n",
              "    }\n",
              "    30% {\n",
              "      border-color: transparent;\n",
              "      border-left-color: var(--fill-color);\n",
              "      border-top-color: var(--fill-color);\n",
              "      border-right-color: var(--fill-color);\n",
              "    }\n",
              "    40% {\n",
              "      border-color: transparent;\n",
              "      border-right-color: var(--fill-color);\n",
              "      border-top-color: var(--fill-color);\n",
              "    }\n",
              "    60% {\n",
              "      border-color: transparent;\n",
              "      border-right-color: var(--fill-color);\n",
              "    }\n",
              "    80% {\n",
              "      border-color: transparent;\n",
              "      border-right-color: var(--fill-color);\n",
              "      border-bottom-color: var(--fill-color);\n",
              "    }\n",
              "    90% {\n",
              "      border-color: transparent;\n",
              "      border-bottom-color: var(--fill-color);\n",
              "    }\n",
              "  }\n",
              "</style>\n",
              "\n",
              "  <script>\n",
              "    async function quickchart(key) {\n",
              "      const quickchartButtonEl =\n",
              "        document.querySelector('#' + key + ' button');\n",
              "      quickchartButtonEl.disabled = true;  // To prevent multiple clicks.\n",
              "      quickchartButtonEl.classList.add('colab-df-spinner');\n",
              "      try {\n",
              "        const charts = await google.colab.kernel.invokeFunction(\n",
              "            'suggestCharts', [key], {});\n",
              "      } catch (error) {\n",
              "        console.error('Error during call to suggestCharts:', error);\n",
              "      }\n",
              "      quickchartButtonEl.classList.remove('colab-df-spinner');\n",
              "      quickchartButtonEl.classList.add('colab-df-quickchart-complete');\n",
              "    }\n",
              "    (() => {\n",
              "      let quickchartButtonEl =\n",
              "        document.querySelector('#df-76d3ec37-1482-4aaf-9484-123cb022565f button');\n",
              "      quickchartButtonEl.style.display =\n",
              "        google.colab.kernel.accessAllowed ? 'block' : 'none';\n",
              "    })();\n",
              "  </script>\n",
              "</div>\n",
              "    </div>\n",
              "  </div>\n"
            ]
          },
          "metadata": {},
          "execution_count": 37
        }
      ],
      "source": [
        "df.head()"
      ]
    },
    {
      "cell_type": "code",
      "execution_count": null,
      "metadata": {
        "colab": {
          "base_uri": "https://localhost:8080/"
        },
        "id": "6_uw8kTz4nP4",
        "outputId": "12296a33-7368-4f6e-9c7d-51fdd985ed07"
      },
      "outputs": [
        {
          "output_type": "stream",
          "name": "stdout",
          "text": [
            "<class 'pandas.core.frame.DataFrame'>\n",
            "RangeIndex: 19915 entries, 0 to 19914\n",
            "Data columns (total 6 columns):\n",
            " #   Column             Non-Null Count  Dtype \n",
            "---  ------             --------------  ----- \n",
            " 0   언론사                19915 non-null  object\n",
            " 1   제목                 19915 non-null  object\n",
            " 2   기관                 19771 non-null  object\n",
            " 3   키워드                19915 non-null  object\n",
            " 4   특성추출(가중치순 상위 50개)  19915 non-null  object\n",
            " 5   본문                 19915 non-null  object\n",
            "dtypes: object(6)\n",
            "memory usage: 933.6+ KB\n"
          ]
        }
      ],
      "source": [
        "df.info()"
      ]
    },
    {
      "cell_type": "markdown",
      "source": [
        "### 2) 형태소 분석"
      ],
      "metadata": {
        "id": "VoIHfXZOB22r"
      }
    },
    {
      "cell_type": "code",
      "execution_count": null,
      "metadata": {
        "colab": {
          "base_uri": "https://localhost:8080/"
        },
        "id": "5bdVTmz26BXx",
        "outputId": "805cde2d-807d-4d62-c819-d0a1371f3916"
      },
      "outputs": [
        {
          "output_type": "stream",
          "name": "stdout",
          "text": [
            "Requirement already satisfied: konlpy in /usr/local/lib/python3.10/dist-packages (0.6.0)\n",
            "Requirement already satisfied: JPype1>=0.7.0 in /usr/local/lib/python3.10/dist-packages (from konlpy) (1.4.1)\n",
            "Requirement already satisfied: lxml>=4.1.0 in /usr/local/lib/python3.10/dist-packages (from konlpy) (4.9.3)\n",
            "Requirement already satisfied: numpy>=1.6 in /usr/local/lib/python3.10/dist-packages (from konlpy) (1.23.5)\n",
            "Requirement already satisfied: packaging in /usr/local/lib/python3.10/dist-packages (from JPype1>=0.7.0->konlpy) (23.2)\n"
          ]
        }
      ],
      "source": [
        "# konlpy 설치\n",
        "!pip install konlpy\n",
        "\n",
        "import konlpy\n",
        "\n",
        "import pandas as pd\n",
        "from textblob import TextBlob\n",
        "from konlpy.tag import Okt"
      ]
    },
    {
      "cell_type": "code",
      "execution_count": null,
      "metadata": {
        "id": "Xj0yVTao5M2Z"
      },
      "outputs": [],
      "source": [
        "# KoNLPy를 사용하여 형태소 분석을 수행\n",
        "okt = Okt()\n",
        "df['본문'] = df['본문'].apply(lambda x: ' '.join(okt.morphs(x)))"
      ]
    },
    {
      "cell_type": "markdown",
      "source": [
        "## 3. 긍부정 평가"
      ],
      "metadata": {
        "id": "spAxDnuIB877"
      }
    },
    {
      "cell_type": "markdown",
      "source": [
        "### 1) 긍정적/부정적/중립적 감정 분석"
      ],
      "metadata": {
        "id": "v4F6BkokCc5n"
      }
    },
    {
      "cell_type": "code",
      "execution_count": null,
      "metadata": {
        "colab": {
          "base_uri": "https://localhost:8080/"
        },
        "id": "4jgTRfiI5wpd",
        "outputId": "5fbba8ba-ff23-47c4-b518-9a701f8165dc"
      },
      "outputs": [
        {
          "output_type": "stream",
          "name": "stdout",
          "text": [
            "                                                      본문  긍부정\n",
            "0      내년 11월 미국 대통령 선거 의 향방 을 결정 할 6 개 경합 주 여론조사 에서 ...  중립적\n",
            "1      “ 이스라엘 이 팔레스타인 탄압 을 멈추지 않으면 중동 평화 는 불가능합니다 . 이...  중립적\n",
            "2      국민 의 힘 ‘ 인 요한 혁신 위 ’ 가 국회의원 불체포특권 포기 , 의원 숫자 1...  중립적\n",
            "3      이준석 전 국민 의 힘 대표 가 연일 탈당 및 신당 창 당 을 거론 하고 있다 . ...  중립적\n",
            "4      북한 이 장기 억류 중인 선교사 3 명과 탈북민 3 명의 가족 에게 통일부 가 최고...  중립적\n",
            "...                                                  ...  ...\n",
            "19910  “ 대학 입시 요 ? 무조건 외국 대학 보내야죠 . 국내 대학 보내서 뭐 해 요 ....  중립적\n",
            "19911  [ 충청 투데이 김성준 기자 ] 문재인 정부 가 집값 을 비롯 한 국가 통계 를 조...  중립적\n",
            "19912  윤석열 대통령 이 19일 충북 청주 충북대학교 개신 문 화관 에서 생명 과 지역 을...  중립적\n",
            "19913  ［ 중부 매일 신서희 기자 ］ 세종시 에서는 민주당 이 지난 총선 2 석 을 모두 ...  중립적\n",
            "19914  ［ 중부 매일 신서희 기자 ］ 세종 은 지역 민심 변화 여부 를 가늠 해 볼 수 있...  중립적\n",
            "\n",
            "[19915 rows x 2 columns]\n"
          ]
        }
      ],
      "source": [
        "# TextBlob를 사용하여 긍정/부정/중립 평가\n",
        "def analyze_sentiment(text):\n",
        "    analysis = TextBlob(text)\n",
        "    sentiment = analysis.sentiment.polarity\n",
        "    if sentiment > 0:\n",
        "        return \"긍정적\"\n",
        "    elif sentiment < 0:\n",
        "        return \"부정적\"\n",
        "    else:\n",
        "        return \"중립적\"\n",
        "\n",
        "df['긍부정'] = df['본문'].apply(analyze_sentiment)\n",
        "\n",
        "# 결과 출력\n",
        "print(df[['본문', '긍부정']])"
      ]
    },
    {
      "cell_type": "markdown",
      "source": [
        "### 2) 결과 확인"
      ],
      "metadata": {
        "id": "RK6rgK5NCBB-"
      }
    },
    {
      "cell_type": "code",
      "execution_count": null,
      "metadata": {
        "colab": {
          "base_uri": "https://localhost:8080/"
        },
        "id": "I3_M9mtQ8-EH",
        "outputId": "415fa0bb-484e-4465-afc2-9e6044c192b7"
      },
      "outputs": [
        {
          "output_type": "execute_result",
          "data": {
            "text/plain": [
              "0        중립적\n",
              "1        중립적\n",
              "2        중립적\n",
              "3        중립적\n",
              "4        중립적\n",
              "        ... \n",
              "19910    중립적\n",
              "19911    중립적\n",
              "19912    중립적\n",
              "19913    중립적\n",
              "19914    중립적\n",
              "Name: 긍부정, Length: 19915, dtype: object"
            ]
          },
          "metadata": {},
          "execution_count": 42
        }
      ],
      "source": [
        "df['긍부정']"
      ]
    },
    {
      "cell_type": "code",
      "execution_count": null,
      "metadata": {
        "colab": {
          "base_uri": "https://localhost:8080/"
        },
        "id": "AtgInXuF9CjK",
        "outputId": "33b4a2d4-03d6-43f9-d43c-a32c8c2ef0b8"
      },
      "outputs": [
        {
          "output_type": "execute_result",
          "data": {
            "text/plain": [
              "중립적    19862\n",
              "긍정적       33\n",
              "부정적       20\n",
              "Name: 긍부정, dtype: int64"
            ]
          },
          "metadata": {},
          "execution_count": 43
        }
      ],
      "source": [
        "df['긍부정'].value_counts()"
      ]
    },
    {
      "cell_type": "markdown",
      "source": [
        "### 3) 부정적 뉴스 데이터 삭제"
      ],
      "metadata": {
        "id": "3guq6L-XCkXx"
      }
    },
    {
      "cell_type": "code",
      "source": [
        "pos = df[df['긍부정'] == '긍정적']\n",
        "neg = df[df['긍부정'] == '부정적']\n",
        "neu = df[df['긍부정'] == '중립적']"
      ],
      "metadata": {
        "id": "rQhiBW8RCn6p"
      },
      "execution_count": null,
      "outputs": []
    },
    {
      "cell_type": "code",
      "source": [
        "df= df.drop(neg.index)"
      ],
      "metadata": {
        "id": "OCL6PDvUFNTS"
      },
      "execution_count": null,
      "outputs": []
    },
    {
      "cell_type": "code",
      "source": [
        "df['긍부정'].value_counts()"
      ],
      "metadata": {
        "colab": {
          "base_uri": "https://localhost:8080/"
        },
        "id": "J5XqxHJpDige",
        "outputId": "d9e3b471-d98a-4ce8-f106-421881cf8415"
      },
      "execution_count": null,
      "outputs": [
        {
          "output_type": "execute_result",
          "data": {
            "text/plain": [
              "중립적    19862\n",
              "긍정적       33\n",
              "Name: 긍부정, dtype: int64"
            ]
          },
          "metadata": {},
          "execution_count": 46
        }
      ]
    },
    {
      "cell_type": "markdown",
      "source": [
        "# [핵심기능 2] **생성형 AI**"
      ],
      "metadata": {
        "id": "8W22evltG8Qy"
      }
    },
    {
      "cell_type": "code",
      "source": [],
      "metadata": {
        "id": "1tvHIeVeKgzj"
      },
      "execution_count": null,
      "outputs": []
    }
  ],
  "metadata": {
    "colab": {
      "provenance": [],
      "include_colab_link": true
    },
    "kernelspec": {
      "display_name": "Python 3",
      "name": "python3"
    },
    "language_info": {
      "name": "python"
    }
  },
  "nbformat": 4,
  "nbformat_minor": 0
}